{
 "metadata": {
  "name": "",
  "signature": "sha256:e5d66f37f87777dccc50b4ff74dfbb536202685494fa9368b827eb107d782782"
 },
 "nbformat": 3,
 "nbformat_minor": 0,
 "worksheets": [
  {
   "cells": [
    {
     "cell_type": "code",
     "collapsed": false,
     "input": [
      "# Naive implementation ... with a for loop\n",
      "\n",
      "for i in range(1,21):\n",
      "    if not i % (5*3): print(\"fizzbuzz\")\n",
      "    elif not i % 5: print(\"fizz\")\n",
      "    elif not i % 3: print(\"buzz\")\n",
      "    else: print(i)"
     ],
     "language": "python",
     "metadata": {
      "slideshow": {
       "slide_type": "slide"
      }
     },
     "outputs": []
    },
    {
     "cell_type": "markdown",
     "metadata": {
      "slideshow": {
       "slide_type": "slide"
      }
     },
     "source": [
      "# We also know how to create a simple lazy implementation of `range`"
     ]
    },
    {
     "cell_type": "code",
     "collapsed": false,
     "input": [
      "def range_(stop):\n",
      "    '''home brewed range replacement'''\n",
      "    n = 0\n",
      "    while stop > n:\n",
      "        yield n\n",
      "        n += 1\n",
      "        \n",
      "[i for i in range(5)], [i for i in range_(5)]"
     ],
     "language": "python",
     "metadata": {
      "slideshow": {
       "slide_type": "subslide"
      }
     },
     "outputs": []
    },
    {
     "cell_type": "markdown",
     "metadata": {
      "slideshow": {
       "slide_type": "slide"
      }
     },
     "source": [
      "# Higher Order functions, Closures\n",
      "\n",
      "We can create a primitie function that returns the products of the function called with some fixed parameters. "
     ]
    },
    {
     "cell_type": "code",
     "collapsed": false,
     "input": [
      "def fizzbuzzfilter(test,num, word):\n",
      "    if (type(test) != int) or (test%num):\n",
      "        return test\n",
      "    else:\n",
      "        return word\n",
      "        \n",
      "\n",
      "def fizzbuzzfilter3(test):\n",
      "    return fizzbuzzfilter(test, 3, \"fizz\")\n",
      "\n",
      "def fizzbuzzfilter5(test):\n",
      "    return fizzbuzzfilter(test, 5, \"buzz\")\n",
      "\n",
      "def fizzbuzzfilter15(test):\n",
      "    return fizzbuzzfilter(test, 15, \"fizzbuzz\")\n"
     ],
     "language": "python",
     "metadata": {
      "slideshow": {
       "slide_type": "subslide"
      }
     },
     "outputs": []
    },
    {
     "cell_type": "code",
     "collapsed": false,
     "input": [
      "fizzbuzzfilter3(3), fizzbuzzfilter3(5), fizzbuzzfilter3(None)"
     ],
     "language": "python",
     "metadata": {
      "slideshow": {
       "slide_type": "subslide"
      }
     },
     "outputs": []
    },
    {
     "cell_type": "code",
     "collapsed": false,
     "input": [
      "fizzbuzzfilter5(fizzbuzzfilter3(fizzbuzzfilter15(3)))"
     ],
     "language": "python",
     "metadata": {
      "slideshow": {
       "slide_type": "subslide"
      }
     },
     "outputs": []
    },
    {
     "cell_type": "code",
     "collapsed": false,
     "input": [
      "list(map(fizzbuzzfilter5, map(fizzbuzzfilter3, map(fizzbuzzfilter15, range(1,21)))))"
     ],
     "language": "python",
     "metadata": {
      "slideshow": {
       "slide_type": "subslide"
      }
     },
     "outputs": []
    },
    {
     "cell_type": "markdown",
     "metadata": {
      "slideshow": {
       "slide_type": "fragment"
      }
     },
     "source": [
      "# Multiple maps\n",
      "This approach works, but it does repeat in a way the DRY principle.\n",
      "It's not very readable. The STL offers a nice wrapper called partial, for creating exactly that."
     ]
    },
    {
     "cell_type": "code",
     "collapsed": false,
     "input": [
      "list(map(fizzbuzzfilter5, map(fizzbuzzfilter3, map(fizzbuzzfilter15, range(1,21)))))"
     ],
     "language": "python",
     "metadata": {},
     "outputs": []
    },
    {
     "cell_type": "code",
     "collapsed": false,
     "input": [
      "from functools import partial\n",
      "filter3 = partial(fizzbuzzfilter, num=3, word='fizz')\n",
      "filter5 = partial(fizzbuzzfilter, num=5, word='buzz')\n",
      "filter15 = partial(fizzbuzzfilter, num=15, word='fizzbuzz')\n"
     ],
     "language": "python",
     "metadata": {},
     "outputs": []
    },
    {
     "cell_type": "markdown",
     "metadata": {},
     "source": [
      "# We can use multiple map calls over the range "
     ]
    },
    {
     "cell_type": "code",
     "collapsed": false,
     "input": [
      "print(list(map(filter5, map(filter3, map(filter15, range(1,21))))))"
     ],
     "language": "python",
     "metadata": {},
     "outputs": []
    },
    {
     "cell_type": "markdown",
     "metadata": {},
     "source": [
      "# OK, it works, and it's more convenient to write, but it's still not very readable. "
     ]
    },
    {
     "cell_type": "code",
     "collapsed": false,
     "input": [
      "\n",
      "def map_many(iterable, function, *other):\n",
      "    \"\"\"map many functions to a single iterable\"\"\"\n",
      "    if other:\n",
      "        return map_many(map(function, iterable), *other)\n",
      "    return map(function, iterable)\n",
      "\n",
      "\n",
      "list(map_many(range(1,21), filter15, filter3, filter5))\n",
      "%timeit list(map_many(range(1,21), filter15, filter3, filter5))"
     ],
     "language": "python",
     "metadata": {},
     "outputs": [
      {
       "output_type": "stream",
       "stream": "stdout",
       "text": [
        "10000 loops, best of 3: 26.3 \u00b5s per loop\n"
       ]
      }
     ],
     "prompt_number": 45
    },
    {
     "cell_type": "markdown",
     "metadata": {},
     "source": [
      "# A slightly better approach, using yield instead of returns. \n",
      "As a bonus, list are not traversed 3 times. "
     ]
    },
    {
     "cell_type": "code",
     "collapsed": false,
     "input": [
      "from functools import partial\n",
      "\n",
      "filter3 = partial(fizzbuzzfilter, num=3, word='fizz')\n",
      "filter5 = partial(fizzbuzzfilter, num=5, word='buzz')\n",
      "filter15 = partial(fizzbuzzfilter, num=15, word='fizzbuzz')\n",
      "\n",
      "def fizzbuzzfiltery(numbers, num, word):\n",
      "    for test in numbers:\n",
      "        if (type(test) == str) or (test%num):\n",
      "            yield test\n",
      "        else:\n",
      "            yield word\n",
      "            \n",
      "filter3y = partial(fizzbuzzfiltery, num=3, word='fizz')\n",
      "filter5y = partial(fizzbuzzfiltery, num=5, word='buzz')\n",
      "filter15y = partial(fizzbuzzfiltery, num=15, word='fizzbuzz')\n",
      "\n",
      "nums = range(1,21)\n",
      "\n",
      "# Using yields we only traverse the list 1 time\n",
      "        \n",
      "list(filter5y(filter3y(filter15y(nums))))\n",
      "%timeit list(filter5y(filter3y(filter15y(nums))))\n"
     ],
     "language": "python",
     "metadata": {},
     "outputs": [
      {
       "output_type": "stream",
       "stream": "stdout",
       "text": [
        "100000 loops, best of 3: 12.2 \u00b5s per loop\n"
       ]
      }
     ],
     "prompt_number": 44
    },
    {
     "cell_type": "code",
     "collapsed": false,
     "input": [
      "# using lambdas only:\n",
      "fizzbuzz = lambda x: \"fizzbuzz\" if isinstance(x, int) and not x%15 and not isinstance(x, str) else x\n",
      "fizz = lambda x: \"fizz\" if isinstance(x, int) and not x % 3 and not isinstance(x, str) else x\n",
      "buzz = lambda x: \"buzz\" if isinstance(x, int) and not x % 5 and not isinstance(x, str) else x\n",
      "list(map(buzz, map(fizz, (map(fizzbuzz, range(1,21))))))"
     ],
     "language": "python",
     "metadata": {},
     "outputs": []
    },
    {
     "cell_type": "markdown",
     "metadata": {},
     "source": [
      "# Applying multiple functions to a single list, currying ...\n",
      "\n",
      "Applying multiple lamdba functions which return a value. \n",
      "Traversing the list of arguments N times, where N is the number of functions."
     ]
    },
    {
     "cell_type": "code",
     "collapsed": false,
     "input": [
      "def mapf(f_list, argument):\n",
      "    \"\"\"map multiple functions to a single argument without recursion\"\"\" \n",
      "    r = argument\n",
      "    for f in f_list:\n",
      "        r = map(f, r)\n",
      "    return r\n",
      "\n",
      "list(mapf([fizzbuzz, fizz, buzz], nums))"
     ],
     "language": "python",
     "metadata": {},
     "outputs": []
    },
    {
     "cell_type": "code",
     "collapsed": false,
     "input": [
      "def fizzbuzzfiltery(test, num, word):\n",
      "    print(\"inside\" + str(test))  \n",
      "    if (type(test) != int) or (test%num):\n",
      "        yield test\n",
      "    else:\n",
      "        yield word\n",
      "\n",
      "filter3y = partial(fizzbuzzfiltery, num=3, word='fizz')\n",
      "filter5y = partial(fizzbuzzfiltery, num=5, word='buzz')\n",
      "filter15y = partial(fizzbuzzfiltery, num=15, word='fizzbuzz')\n",
      "\n",
      "filter5y(4), next(filter5y(5))"
     ],
     "language": "python",
     "metadata": {},
     "outputs": []
    },
    {
     "cell_type": "code",
     "collapsed": false,
     "input": [
      "from functools import reduce\n",
      "def pipeline_each(data, fns):\n",
      "    return reduce(lambda a, x: map(x, a),\n",
      "                  fns,\n",
      "                  data)\n",
      "\n",
      "from itertools import chain\n",
      "\n",
      "%timeit -n 100 list(pipeline_each(range(1,21), [fizzbuzz, fizz, buzz]))\n"
     ],
     "language": "python",
     "metadata": {},
     "outputs": []
    },
    {
     "cell_type": "markdown",
     "metadata": {},
     "source": [
      "# Using yields we traverse the list __only__ once. Because we have created lazy functions"
     ]
    },
    {
     "cell_type": "code",
     "collapsed": false,
     "input": [
      "from itertools import chain\n",
      "def mapf(f_list, argument):\n",
      "    \"\"\"apply a list of functions to a single argument, without recursion\"\"\"\n",
      "    r = argument\n",
      "    for f in f_list:\n",
      "        #  r = chain(*(map(f, r)))  # same as below, but with uglier syntax\n",
      "        r = chain.from_iterable(map(f, r))\n",
      "        \n",
      "    return r\n",
      "nums = range(1,21)\n",
      "list(mapf([filter15y, filter3y, filter5y], nums))"
     ],
     "language": "python",
     "metadata": {},
     "outputs": []
    },
    {
     "cell_type": "code",
     "collapsed": false,
     "input": [
      "nums = range(1, 2*10**2+1)\n"
     ],
     "language": "python",
     "metadata": {},
     "outputs": []
    },
    {
     "cell_type": "code",
     "collapsed": false,
     "input": [
      "def lazy():\n",
      "    \"\"\"no recursion, with yield\"\"\"\n",
      "    return list(mapf([filter15y, filter3y, filter5y], nums))\n",
      "\n",
      "%timeit -n 100 lazy()\n"
     ],
     "language": "python",
     "metadata": {},
     "outputs": []
    },
    {
     "cell_type": "code",
     "collapsed": false,
     "input": [
      "%timeit -n 100 list(filter5y(filter3y(filter15y(nums))))"
     ],
     "language": "python",
     "metadata": {},
     "outputs": [
      {
       "output_type": "stream",
       "stream": "stdout",
       "text": [
        "inside<generator object fizzbuzzfiltery at 0x7fecb00faea0>\n",
        "inside<generator object fizzbuzzfiltery at 0x7fecb00fae10>\n",
        "inside<generator object fizzbuzzfiltery at 0x7fecb00faea0>\n",
        "inside<generator object fizzbuzzfiltery at 0x7fecb00fae10>\n",
        "inside<generator object fizzbuzzfiltery at 0x7fecb00faea0>\n",
        "inside<generator object fizzbuzzfiltery at 0x7fecb00fae10>\n",
        "inside<generator object fizzbuzzfiltery at 0x7fecb00faea0>\n",
        "inside<generator object fizzbuzzfiltery at 0x7fecb00fae10>\n",
        "inside<generator object fizzbuzzfiltery at 0x7fecb00faea0>\n",
        "inside<generator object fizzbuzzfiltery at 0x7fecb00fae10>\n",
        "inside<generator object fizzbuzzfiltery at 0x7fecb00faea0>\n",
        "inside<generator object fizzbuzzfiltery at 0x7fecb00fae10>\n",
        "inside<generator object fizzbuzzfiltery at 0x7fecb00faea0>\n",
        "inside<generator object fizzbuzzfiltery at 0x7fecb00fae10>\n",
        "inside<generator object fizzbuzzfiltery at 0x7fecb00faea0>\n",
        "inside<generator object fizzbuzzfiltery at 0x7fecb00fae10>\n",
        "inside<generator object fizzbuzzfiltery at 0x7fecb00faea0>\n",
        "inside<generator object fizzbuzzfiltery at 0x7fecb00fae10>\n",
        "inside<generator object fizzbuzzfiltery at 0x7fecb00faea0>\n",
        "inside<generator object fizzbuzzfiltery at 0x7fecb00fae10>\n",
        "inside<generator object fizzbuzzfiltery at 0x7fecb00faea0>\n",
        "inside<generator object fizzbuzzfiltery at 0x7fecb00fae10>\n",
        "inside<generator object fizzbuzzfiltery at 0x7fecb00faea0>\n",
        "inside<generator object fizzbuzzfiltery at 0x7fecb00fae10>\n",
        "inside<generator object fizzbuzzfiltery at 0x7fecb00faea0>\n",
        "inside<generator object fizzbuzzfiltery at 0x7fecb00fae10>\n",
        "inside<generator object fizzbuzzfiltery at 0x7fecb00faea0>\n",
        "inside<generator object fizzbuzzfiltery at 0x7fecb00fae10>\n",
        "inside<generator object fizzbuzzfiltery at 0x7fecb00faea0>\n",
        "inside<generator object fizzbuzzfiltery at 0x7fecb00fae10>\n",
        "inside<generator object fizzbuzzfiltery at 0x7fecb00faea0>\n",
        "inside<generator object fizzbuzzfiltery at 0x7fecb00fae10>\n",
        "inside<generator object fizzbuzzfiltery at 0x7fecb00faea0>\n",
        "inside<generator object fizzbuzzfiltery at 0x7fecb00fae10>\n",
        "inside<generator object fizzbuzzfiltery at 0x7fecb00faea0>\n",
        "inside<generator object fizzbuzzfiltery at 0x7fecb00fae10>\n",
        "inside<generator object fizzbuzzfiltery at 0x7fecb00faea0>\n",
        "inside<generator object fizzbuzzfiltery at 0x7fecb00fae10>\n",
        "inside<generator object fizzbuzzfiltery at 0x7fecb00faea0>\n",
        "inside<generator object fizzbuzzfiltery at 0x7fecb00fae10>\n",
        "inside<generator object fizzbuzzfiltery at 0x7fecb00faea0>\n",
        "inside<generator object fizzbuzzfiltery at 0x7fecb00fae10>\n",
        "inside<generator object fizzbuzzfiltery at 0x7fecb00faea0>\n",
        "inside<generator object fizzbuzzfiltery at 0x7fecb00fae10>\n",
        "inside<generator object fizzbuzzfiltery at 0x7fecb00faea0>\n",
        "inside<generator object fizzbuzzfiltery at 0x7fecb00fae10>\n",
        "inside<generator object fizzbuzzfiltery at 0x7fecb00faea0>\n",
        "inside<generator object fizzbuzzfiltery at 0x7fecb00fae10>\n",
        "inside<generator object fizzbuzzfiltery at 0x7fecb00faea0>\n",
        "inside<generator object fizzbuzzfiltery at 0x7fecb00fae10>\n",
        "inside<generator object fizzbuzzfiltery at 0x7fecb00faea0>\n",
        "inside<generator object fizzbuzzfiltery at 0x7fecb00fae10>\n",
        "inside<generator object fizzbuzzfiltery at 0x7fecb00faea0>\n",
        "inside<generator object fizzbuzzfiltery at 0x7fecb00fae10>\n",
        "inside<generator object fizzbuzzfiltery at 0x7fecb00faea0>\n",
        "inside<generator object fizzbuzzfiltery at 0x7fecb00fae10>\n",
        "inside<generator object fizzbuzzfiltery at 0x7fecb00faea0>\n",
        "inside<generator object fizzbuzzfiltery at 0x7fecb00fae10>\n",
        "inside<generator object fizzbuzzfiltery at 0x7fecb00faea0>\n",
        "inside<generator object fizzbuzzfiltery at 0x7fecb00fae10>\n",
        "inside<generator object fizzbuzzfiltery at 0x7fecb00faea0>\n",
        "inside<generator object fizzbuzzfiltery at 0x7fecb00fae10>\n",
        "inside<generator object fizzbuzzfiltery at 0x7fecb00faea0>\n",
        "inside<generator object fizzbuzzfiltery at 0x7fecb00fae10>\n",
        "inside<generator object fizzbuzzfiltery at 0x7fecb00faea0>\n",
        "inside<generator object fizzbuzzfiltery at 0x7fecb00fae10>\n",
        "inside<generator object fizzbuzzfiltery at 0x7fecb00faea0>\n",
        "inside<generator object fizzbuzzfiltery at 0x7fecb00fae10>\n",
        "inside<generator object fizzbuzzfiltery at 0x7fecb00faea0>\n",
        "inside<generator object fizzbuzzfiltery at 0x7fecb00fae10>\n",
        "inside<generator object fizzbuzzfiltery at 0x7fecb00faea0>\n",
        "inside<generator object fizzbuzzfiltery at 0x7fecb00fae10>\n",
        "inside<generator object fizzbuzzfiltery at 0x7fecb00faea0>\n",
        "inside<generator object fizzbuzzfiltery at 0x7fecb00fae10>\n",
        "inside<generator object fizzbuzzfiltery at 0x7fecb00faea0>\n",
        "inside<generator object fizzbuzzfiltery at 0x7fecb00fae10>\n",
        "inside<generator object fizzbuzzfiltery at 0x7fecb00faea0>\n",
        "inside<generator object fizzbuzzfiltery at 0x7fecb00fae10>\n",
        "inside<generator object fizzbuzzfiltery at 0x7fecb00faea0>\n",
        "inside<generator object fizzbuzzfiltery at 0x7fecb00fae10>\n",
        "inside<generator object fizzbuzzfiltery at 0x7fecb00faea0>\n",
        "inside<generator object fizzbuzzfiltery at 0x7fecb00fae10>\n",
        "inside<generator object fizzbuzzfiltery at 0x7fecb00faea0>\n",
        "inside<generator object fizzbuzzfiltery at 0x7fecb00fae10>\n",
        "inside<generator object fizzbuzzfiltery at 0x7fecb00faea0>\n",
        "inside<generator object fizzbuzzfiltery at 0x7fecb00fae10>\n",
        "inside<generator object fizzbuzzfiltery at 0x7fecb00faea0>\n",
        "inside<generator object fizzbuzzfiltery at 0x7fecb00fae10>\n",
        "inside<generator object fizzbuzzfiltery at 0x7fecb00faea0>\n",
        "inside<generator object fizzbuzzfiltery at 0x7fecb00fae10>\n",
        "inside<generator object fizzbuzzfiltery at 0x7fecb00faea0>\n",
        "inside<generator object fizzbuzzfiltery at 0x7fecb00fae10>\n",
        "inside<generator object fizzbuzzfiltery at 0x7fecb00faea0>\n",
        "inside<generator object fizzbuzzfiltery at 0x7fecb00fae10>\n",
        "inside<generator object fizzbuzzfiltery at 0x7fecb00faea0>\n",
        "inside<generator object fizzbuzzfiltery at 0x7fecb00fae10>\n",
        "inside<generator object fizzbuzzfiltery at 0x7fecb00faea0>\n",
        "inside<generator object fizzbuzzfiltery at 0x7fecb00fae10>\n",
        "inside<generator object fizzbuzzfiltery at 0x7fecb00faea0>\n",
        "inside<generator object fizzbuzzfiltery at 0x7fecb00fae10>\n",
        "inside<generator object fizzbuzzfiltery at 0x7fecb00faea0>\n",
        "inside<generator object fizzbuzzfiltery at 0x7fecb00fae10>\n",
        "inside<generator object fizzbuzzfiltery at 0x7fecb00faea0>\n",
        "inside<generator object fizzbuzzfiltery at 0x7fecb00fae10>\n",
        "inside<generator object fizzbuzzfiltery at 0x7fecb00faea0>\n",
        "inside<generator object fizzbuzzfiltery at 0x7fecb00fae10>\n",
        "inside<generator object fizzbuzzfiltery at 0x7fecb00faea0>\n",
        "inside<generator object fizzbuzzfiltery at 0x7fecb00fae10>\n",
        "inside<generator object fizzbuzzfiltery at 0x7fecb00faea0>\n",
        "inside<generator object fizzbuzzfiltery at 0x7fecb00fae10>\n",
        "inside<generator object fizzbuzzfiltery at 0x7fecb00faea0>\n",
        "inside<generator object fizzbuzzfiltery at 0x7fecb00fae10>\n",
        "inside<generator object fizzbuzzfiltery at 0x7fecb00faea0>\n",
        "inside<generator object fizzbuzzfiltery at 0x7fecb00fae10>\n",
        "inside<generator object fizzbuzzfiltery at 0x7fecb00faea0>\n",
        "inside<generator object fizzbuzzfiltery at 0x7fecb00fae10>\n",
        "inside<generator object fizzbuzzfiltery at 0x7fecb00faea0>\n",
        "inside<generator object fizzbuzzfiltery at 0x7fecb00fae10>\n",
        "inside<generator object fizzbuzzfiltery at 0x7fecb00faea0>\n",
        "inside<generator object fizzbuzzfiltery at 0x7fecb00fae10>\n",
        "inside<generator object fizzbuzzfiltery at 0x7fecb00faea0>\n",
        "inside<generator object fizzbuzzfiltery at 0x7fecb00fae10>\n",
        "inside<generator object fizzbuzzfiltery at 0x7fecb00faea0>\n",
        "inside<generator object fizzbuzzfiltery at 0x7fecb00fae10>\n",
        "inside<generator object fizzbuzzfiltery at 0x7fecb00faea0>\n",
        "inside<generator object fizzbuzzfiltery at 0x7fecb00fae10>\n",
        "inside<generator object fizzbuzzfiltery at 0x7fecb00faea0>\n",
        "inside<generator object fizzbuzzfiltery at 0x7fecb00fae10>\n",
        "inside<generator object fizzbuzzfiltery at 0x7fecb00faea0>\n",
        "inside<generator object fizzbuzzfiltery at 0x7fecb00fae10>\n",
        "inside<generator object fizzbuzzfiltery at 0x7fecb00faea0>\n",
        "inside<generator object fizzbuzzfiltery at 0x7fecb00fae10>\n",
        "inside<generator object fizzbuzzfiltery at 0x7fecb00faea0>\n",
        "inside<generator object fizzbuzzfiltery at 0x7fecb00fae10>\n",
        "inside<generator object fizzbuzzfiltery at 0x7fecb00faea0>\n",
        "inside<generator object fizzbuzzfiltery at 0x7fecb00fae10>\n",
        "inside<generator object fizzbuzzfiltery at 0x7fecb00faea0>\n",
        "inside<generator object fizzbuzzfiltery at 0x7fecb00fae10>\n",
        "inside<generator object fizzbuzzfiltery at 0x7fecb00faea0>\n",
        "inside<generator object fizzbuzzfiltery at 0x7fecb00fae10>\n",
        "inside<generator object fizzbuzzfiltery at 0x7fecb00faea0>\n",
        "inside<generator object fizzbuzzfiltery at 0x7fecb00fae10>\n",
        "inside<generator object fizzbuzzfiltery at 0x7fecb00faea0>\n",
        "inside<generator object fizzbuzzfiltery at 0x7fecb00fae10>\n",
        "inside<generator object fizzbuzzfiltery at 0x7fecb00faea0>\n",
        "inside<generator object fizzbuzzfiltery at 0x7fecb00fae10>\n",
        "inside<generator object fizzbuzzfiltery at 0x7fecb00faea0>\n",
        "inside<generator object fizzbuzzfiltery at 0x7fecb00fae10>\n",
        "inside<generator object fizzbuzzfiltery at 0x7fecb00faea0>\n",
        "inside<generator object fizzbuzzfiltery at 0x7fecb00fae10>\n",
        "inside<generator object fizzbuzzfiltery at 0x7fecb00faea0>\n",
        "inside<generator object fizzbuzzfiltery at 0x7fecb00fae10>\n",
        "inside<generator object fizzbuzzfiltery at 0x7fecb00faea0>\n",
        "inside<generator object fizzbuzzfiltery at 0x7fecb00fae10>\n",
        "inside<generator object fizzbuzzfiltery at 0x7fecb00faea0>\n",
        "inside<generator object fizzbuzzfiltery at 0x7fecb00fae10>\n",
        "inside<generator object fizzbuzzfiltery at 0x7fecb00faea0>\n",
        "inside<generator object fizzbuzzfiltery at 0x7fecb00fae10>\n",
        "inside<generator object fizzbuzzfiltery at 0x7fecb00faea0>\n",
        "inside<generator object fizzbuzzfiltery at 0x7fecb00fae10>\n",
        "inside<generator object fizzbuzzfiltery at 0x7fecb00faea0>\n",
        "inside<generator object fizzbuzzfiltery at 0x7fecb00fae10>\n",
        "inside<generator object fizzbuzzfiltery at 0x7fecb00faea0>\n",
        "inside<generator object fizzbuzzfiltery at 0x7fecb00fae10>\n",
        "inside<generator object fizzbuzzfiltery at 0x7fecb00faea0>\n",
        "inside<generator object fizzbuzzfiltery at 0x7fecb00fae10>\n",
        "inside<generator object fizzbuzzfiltery at 0x7fecb00faea0>\n",
        "inside<generator object fizzbuzzfiltery at 0x7fecb00fae10>\n",
        "inside<generator object fizzbuzzfiltery at 0x7fecb00faea0>\n",
        "inside<generator object fizzbuzzfiltery at 0x7fecb00fae10>\n",
        "inside<generator object fizzbuzzfiltery at 0x7fecb00faea0>\n",
        "inside<generator object fizzbuzzfiltery at 0x7fecb00fae10>\n",
        "inside<generator object fizzbuzzfiltery at 0x7fecb00faea0>\n",
        "inside<generator object fizzbuzzfiltery at 0x7fecb00fae10>\n",
        "inside<generator object fizzbuzzfiltery at 0x7fecb00faea0>\n",
        "inside<generator object fizzbuzzfiltery at 0x7fecb00fae10>\n",
        "inside<generator object fizzbuzzfiltery at 0x7fecb00faea0>\n",
        "inside<generator object fizzbuzzfiltery at 0x7fecb00fae10>\n",
        "inside<generator object fizzbuzzfiltery at 0x7fecb00faea0>\n",
        "inside<generator object fizzbuzzfiltery at 0x7fecb00fae10>\n",
        "inside<generator object fizzbuzzfiltery at 0x7fecb00faea0>\n",
        "inside<generator object fizzbuzzfiltery at 0x7fecb00fae10>\n",
        "inside<generator object fizzbuzzfiltery at 0x7fecb00faea0>\n",
        "inside<generator object fizzbuzzfiltery at 0x7fecb00fae10>\n",
        "inside<generator object fizzbuzzfiltery at 0x7fecb00faea0>\n",
        "inside<generator object fizzbuzzfiltery at 0x7fecb00fae10>\n",
        "inside<generator object fizzbuzzfiltery at 0x7fecb00faea0>\n",
        "inside<generator object fizzbuzzfiltery at 0x7fecb00fae10>\n",
        "inside<generator object fizzbuzzfiltery at 0x7fecb00faea0>\n",
        "inside<generator object fizzbuzzfiltery at 0x7fecb00fae10>\n",
        "inside<generator object fizzbuzzfiltery at 0x7fecb00faea0>\n",
        "inside<generator object fizzbuzzfiltery at 0x7fecb00fae10>\n",
        "inside<generator object fizzbuzzfiltery at 0x7fecb00faea0>\n",
        "inside<generator object fizzbuzzfiltery at 0x7fecb00fae10>\n",
        "inside<generator object fizzbuzzfiltery at 0x7fecb00faea0>\n",
        "inside<generator object fizzbuzzfiltery at 0x7fecb00fae10>\n",
        "inside<generator object fizzbuzzfiltery at 0x7fecb00faea0>\n",
        "inside<generator object fizzbuzzfiltery at 0x7fecb00fae10>\n",
        "inside<generator object fizzbuzzfiltery at 0x7fecb00faea0>\n",
        "inside<generator object fizzbuzzfiltery at 0x7fecb00fae10>\n",
        "inside<generator object fizzbuzzfiltery at 0x7fecb00faea0>\n",
        "inside<generator object fizzbuzzfiltery at 0x7fecb00fae10>\n",
        "inside<generator object fizzbuzzfiltery at 0x7fecb00faea0>\n",
        "inside<generator object fizzbuzzfiltery at 0x7fecb00fae10>\n",
        "inside<generator object fizzbuzzfiltery at 0x7fecb00faea0>\n",
        "inside<generator object fizzbuzzfiltery at 0x7fecb00fae10>\n",
        "inside<generator object fizzbuzzfiltery at 0x7fecb00faea0>\n",
        "inside<generator object fizzbuzzfiltery at 0x7fecb00fae10>\n",
        "inside<generator object fizzbuzzfiltery at 0x7fecb00faea0>\n",
        "inside<generator object fizzbuzzfiltery at 0x7fecb00fae10>\n",
        "inside<generator object fizzbuzzfiltery at 0x7fecb00faea0>\n",
        "inside<generator object fizzbuzzfiltery at 0x7fecb00fae10>\n",
        "inside<generator object fizzbuzzfiltery at 0x7fecb00faea0>\n",
        "inside<generator object fizzbuzzfiltery at 0x7fecb00fae10>\n",
        "inside<generator object fizzbuzzfiltery at 0x7fecb00faea0>\n",
        "inside<generator object fizzbuzzfiltery at 0x7fecb00fae10>\n",
        "inside<generator object fizzbuzzfiltery at 0x7fecb00faea0>\n",
        "inside<generator object fizzbuzzfiltery at 0x7fecb00fae10>\n",
        "inside<generator object fizzbuzzfiltery at 0x7fecb00faea0>\n",
        "inside<generator object fizzbuzzfiltery at 0x7fecb00fae10>\n",
        "inside<generator object fizzbuzzfiltery at 0x7fecb00faea0>\n",
        "inside<generator object fizzbuzzfiltery at 0x7fecb00fae10>\n",
        "inside<generator object fizzbuzzfiltery at 0x7fecb00faea0>\n",
        "inside<generator object fizzbuzzfiltery at 0x7fecb00fae10>\n",
        "inside<generator object fizzbuzzfiltery at 0x7fecb00faea0>\n",
        "inside<generator object fizzbuzzfiltery at 0x7fecb00fae10>\n",
        "inside<generator object fizzbuzzfiltery at 0x7fecb00faea0>\n",
        "inside<generator object fizzbuzzfiltery at 0x7fecb00fae10>\n",
        "inside<generator object fizzbuzzfiltery at 0x7fecb00faea0>\n",
        "inside<generator object fizzbuzzfiltery at 0x7fecb00fae10>\n",
        "inside<generator object fizzbuzzfiltery at 0x7fecb00faea0>\n",
        "inside<generator object fizzbuzzfiltery at 0x7fecb00fae10>\n",
        "inside<generator object fizzbuzzfiltery at 0x7fecb00faea0>\n",
        "inside<generator object fizzbuzzfiltery at 0x7fecb00fae10>\n",
        "inside<generator object fizzbuzzfiltery at 0x7fecb00faea0>\n",
        "inside<generator object fizzbuzzfiltery at 0x7fecb00fae10>\n",
        "inside<generator object fizzbuzzfiltery at 0x7fecb00faea0>\n",
        "inside<generator object fizzbuzzfiltery at 0x7fecb00fae10>\n",
        "inside<generator object fizzbuzzfiltery at 0x7fecb00faea0>\n",
        "inside<generator object fizzbuzzfiltery at 0x7fecb00fae10>\n",
        "inside<generator object fizzbuzzfiltery at 0x7fecb00faea0>\n",
        "inside<generator object fizzbuzzfiltery at 0x7fecb00fae10>\n",
        "inside<generator object fizzbuzzfiltery at 0x7fecb00faea0>\n",
        "inside<generator object fizzbuzzfiltery at 0x7fecb00fae10>\n",
        "inside<generator object fizzbuzzfiltery at 0x7fecb00faea0>\n",
        "inside<generator object fizzbuzzfiltery at 0x7fecb00fae10>\n",
        "inside<generator object fizzbuzzfiltery at 0x7fecb00faea0>\n",
        "inside<generator object fizzbuzzfiltery at 0x7fecb00fae10>\n",
        "inside<generator object fizzbuzzfiltery at 0x7fecb00faea0>\n",
        "inside<generator object fizzbuzzfiltery at 0x7fecb00fae10>\n",
        "inside<generator object fizzbuzzfiltery at 0x7fecb00faea0>\n",
        "inside<generator object fizzbuzzfiltery at 0x7fecb00fae10>\n",
        "inside<generator object fizzbuzzfiltery at 0x7fecb00faea0>\n",
        "inside<generator object fizzbuzzfiltery at 0x7fecb00fae10>\n",
        "inside<generator object fizzbuzzfiltery at 0x7fecb00faea0>\n",
        "inside<generator object fizzbuzzfiltery at 0x7fecb00fae10>\n",
        "inside<generator object fizzbuzzfiltery at 0x7fecb00faea0>\n",
        "inside<generator object fizzbuzzfiltery at 0x7fecb00fae10>\n",
        "inside<generator object fizzbuzzfiltery at 0x7fecb00faea0>\n",
        "inside<generator object fizzbuzzfiltery at 0x7fecb00fae10>\n",
        "inside<generator object fizzbuzzfiltery at 0x7fecb00faea0>\n",
        "inside<generator object fizzbuzzfiltery at 0x7fecb00fae10>\n",
        "inside<generator object fizzbuzzfiltery at 0x7fecb00faea0>\n",
        "inside<generator object fizzbuzzfiltery at 0x7fecb00fae10>\n",
        "inside<generator object fizzbuzzfiltery at 0x7fecb00faea0>\n",
        "inside<generator object fizzbuzzfiltery at 0x7fecb00fae10>\n",
        "inside<generator object fizzbuzzfiltery at 0x7fecb00faea0>\n",
        "inside<generator object fizzbuzzfiltery at 0x7fecb00fae10>\n",
        "inside<generator object fizzbuzzfiltery at 0x7fecb00faea0>\n",
        "inside<generator object fizzbuzzfiltery at 0x7fecb00fae10>\n",
        "inside<generator object fizzbuzzfiltery at 0x7fecb00faea0>\n",
        "inside<generator object fizzbuzzfiltery at 0x7fecb00fae10>\n",
        "inside<generator object fizzbuzzfiltery at 0x7fecb00faea0>\n",
        "inside<generator object fizzbuzzfiltery at 0x7fecb00fae10>\n",
        "inside<generator object fizzbuzzfiltery at 0x7fecb00faea0>\n",
        "inside<generator object fizzbuzzfiltery at 0x7fecb00fae10>\n",
        "inside<generator object fizzbuzzfiltery at 0x7fecb00faea0>\n",
        "inside<generator object fizzbuzzfiltery at 0x7fecb00fae10>\n",
        "inside<generator object fizzbuzzfiltery at 0x7fecb00faea0>\n",
        "inside<generator object fizzbuzzfiltery at 0x7fecb00fae10>\n",
        "inside<generator object fizzbuzzfiltery at 0x7fecb00faea0>\n",
        "inside<generator object fizzbuzzfiltery at 0x7fecb00fae10>\n",
        "inside<generator object fizzbuzzfiltery at 0x7fecb00faea0>\n",
        "inside<generator object fizzbuzzfiltery at 0x7fecb00fae10>\n",
        "inside<generator object fizzbuzzfiltery at 0x7fecb00faea0>\n",
        "inside<generator object fizzbuzzfiltery at 0x7fecb00fae10>\n",
        "inside<generator object fizzbuzzfiltery at 0x7fecb00faea0>\n",
        "inside<generator object fizzbuzzfiltery at 0x7fecb00fae10>\n",
        "inside<generator object fizzbuzzfiltery at 0x7fecb00faea0>\n",
        "inside<generator object fizzbuzzfiltery at 0x7fecb00fae10>\n",
        "inside<generator object fizzbuzzfiltery at 0x7fecb00faea0>\n",
        "inside<generator object fizzbuzzfiltery at 0x7fecb00fae10>\n",
        "inside<generator object fizzbuzzfiltery at 0x7fecb00faea0>\n",
        "inside<generator object fizzbuzzfiltery at 0x7fecb00fae10>\n",
        "inside<generator object fizzbuzzfiltery at 0x7fecb00faea0>\n",
        "inside<generator object fizzbuzzfiltery at 0x7fecb00fae10>\n",
        "inside<generator object fizzbuzzfiltery at 0x7fecb00faea0>\n",
        "inside<generator object fizzbuzzfiltery at 0x7fecb00fae10>\n",
        "inside<generator object fizzbuzzfiltery at 0x7fecb00faea0>\n",
        "inside<generator object fizzbuzzfiltery at 0x7fecb00fae10>\n",
        "100 loops, best of 3: 9.08 \u00b5s per loop\n"
       ]
      }
     ],
     "prompt_number": 41
    },
    {
     "cell_type": "code",
     "collapsed": false,
     "input": [
      "fizzbuzz = lambda x: \"fizzbuzz\" if isinstance(x, int) and not x%15 and not isinstance(x, str) else x\n",
      "fizz = lambda x: \"fizz\" if isinstance(x, int) and not x % 3 and not isinstance(x, str) else x\n",
      "buzz = lambda x: \"buzz\" if isinstance(x, int) and not x % 5 and not isinstance(x, str) else x\n",
      "\n",
      "from itertools import chain\n",
      "def mapf(f_list, argument):\n",
      "    \"\"\"apply a list of functions to a single argument, without recursion\"\"\"\n",
      "    r = argument\n",
      "    for f in f_list:\n",
      "        #  r = chain(*(map(f, r)))  # same as below, but with uglier syntax\n",
      "        #r = chain.from_iterable(map(f, r))\n",
      "        r = map(f,r)\n",
      "        \n",
      "    return r\n",
      "nums = range(1,21)\n",
      "\n",
      "\n",
      "def lumberjack():\n",
      "    \"\"\"calling mapf, no recursion, with lambdas\"\"\"\n",
      "    return list(mapf([fizzbuzz, fizz, buzz], nums))\n",
      "\n",
      "%timeit -n 100 lumberjack()\n"
     ],
     "language": "python",
     "metadata": {},
     "outputs": []
    },
    {
     "cell_type": "code",
     "collapsed": false,
     "input": [
      "def no_y():\n",
      "    \"\"\"no yield, recursion\"\"\"\n",
      "    return list(map_many(nums, filter15, filter3, filter5))\n",
      "\n",
      "%timeit -n 100 no_y()\n"
     ],
     "language": "python",
     "metadata": {},
     "outputs": []
    },
    {
     "cell_type": "code",
     "collapsed": false,
     "input": [
      "def procedural_fizzbuzz():\n",
      "    result = []\n",
      "    for i in range(1,21):\n",
      "        if not i % (5*3): result.extend([\"fizzbuzz\"])\n",
      "        elif not i % 5: result.extend([\"fizz\"])\n",
      "        elif not i % 3: result.extend([\"buzz\"])\n",
      "        else: result.extend([i])\n",
      "        \n",
      "%timeit -n 100 procedural_fizzbuzz()"
     ],
     "language": "python",
     "metadata": {},
     "outputs": []
    }
   ],
   "metadata": {}
  }
 ]
}
